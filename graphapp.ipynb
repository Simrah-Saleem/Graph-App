{
 "cells": [
  {
   "cell_type": "code",
   "execution_count": 1,
   "metadata": {},
   "outputs": [],
   "source": [
    "#Graph App\n",
    "import PySimpleGUI as sg\n",
    "import matplotlib\n",
    "from matplotlib.backends.backend_tkagg import FigureCanvasTkAgg\n",
    " \n",
    "def update_figure(data):\n",
    "    axes = fig.axes\n",
    "    x = [i[0] for i in data]\n",
    "    y = [int(i[1]) for i in data]\n",
    "    axes[0].plot(x,y,'r-')\n",
    "    figure_canvas_agg.draw()\n",
    "    figure_canvas_agg.get_tk_widget().pack()\n",
    " \n",
    "sg.theme('DarkTeal6')\n",
    "table_content = []\n",
    "layout = [\n",
    "    [sg.Table(\n",
    "        headings = ['Observation','Result'], \n",
    "        values = table_content, \n",
    "        expand_x = True, \n",
    "        hide_vertical_scroll = True,\n",
    "        key = '-TABLE-')],\n",
    "    [sg.Input(key = '-INPUT-',expand_x = True),sg.Button('Submit')],\n",
    "    [sg.Canvas(key = '-CANVAS-')]\n",
    "]\n",
    " \n",
    "window = sg.Window('Graph App', layout, finalize = True)\n",
    " \n",
    "# matplotlib\n",
    "fig = matplotlib.figure.Figure(figsize = (5,4))\n",
    "fig.add_subplot(111).plot([],[])\n",
    "figure_canvas_agg = FigureCanvasTkAgg(fig,window['-CANVAS-'].TKCanvas)\n",
    "figure_canvas_agg.draw()\n",
    "figure_canvas_agg.get_tk_widget().pack()\n",
    " \n",
    " \n",
    "while True:\n",
    "    event, values = window.read()\n",
    "    if event == sg.WIN_CLOSED:\n",
    "        break\n",
    " \n",
    "    if event == 'Submit':\n",
    "        new_value = values['-INPUT-']\n",
    "        if new_value.isnumeric():\n",
    "            table_content.append([len(table_content) + 1,float(new_value)])\n",
    "            window['-TABLE-'].update(table_content)\n",
    "            window['-INPUT-'].update('')\n",
    "            update_figure(table_content)\n",
    " \n",
    "window.close()"
   ]
  }
 ],
 "metadata": {
  "interpreter": {
   "hash": "5c0372ed38b372118c24adb00d45654d76c8d10261533c5724e3f5fc1d75489a"
  },
  "kernelspec": {
   "display_name": "Python 3.8.9 64-bit",
   "language": "python",
   "name": "python3"
  },
  "language_info": {
   "codemirror_mode": {
    "name": "ipython",
    "version": 3
   },
   "file_extension": ".py",
   "mimetype": "text/x-python",
   "name": "python",
   "nbconvert_exporter": "python",
   "pygments_lexer": "ipython3",
   "version": "3.8.9"
  },
  "orig_nbformat": 4
 },
 "nbformat": 4,
 "nbformat_minor": 2
}
